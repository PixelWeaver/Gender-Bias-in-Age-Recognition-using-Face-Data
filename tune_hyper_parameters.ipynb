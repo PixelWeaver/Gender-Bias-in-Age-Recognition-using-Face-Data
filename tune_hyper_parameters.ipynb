{
 "cells": [
  {
   "cell_type": "code",
   "execution_count": 1,
   "metadata": {},
   "outputs": [
    {
     "name": "stdout",
     "output_type": "stream",
     "text": [
      "Requirement already satisfied: opencv-python in /home/pixelweaver/anaconda3/lib/python3.7/site-packages (4.1.0.25)\r\n",
      "Requirement already satisfied: numpy>=1.14.5 in /home/pixelweaver/anaconda3/lib/python3.7/site-packages (from opencv-python) (1.16.2)\r\n"
     ]
    }
   ],
   "source": [
    "!pip install -q tf-nightly-2.0-preview\n",
    "# Load the TensorBoard notebook extension\n",
    "%load_ext tensorboard\n",
    "!pip install opencv-python"
   ]
  },
  {
   "cell_type": "code",
   "execution_count": 2,
   "metadata": {},
   "outputs": [],
   "source": [
    "# Clear any logs from previous runs\n",
    "!rm -rf ./logs/ "
   ]
  },
  {
   "cell_type": "code",
   "execution_count": 27,
   "metadata": {},
   "outputs": [],
   "source": [
    "import datetime\n",
    "import tensorflow as tf\n",
    "import cv2\n",
    "import os\n",
    "import numpy as np\n",
    "import math\n",
    "\n",
    "# Imports for the HParams plugin\n",
    "from tensorboard.plugins.hparams import api_pb2\n",
    "from tensorboard.plugins.hparams import summary as hparams_summary\n",
    "from google.protobuf import struct_pb2"
   ]
  },
  {
   "cell_type": "code",
   "execution_count": 28,
   "metadata": {},
   "outputs": [],
   "source": [
    "# Print iterations progress\n",
    "# FROM https://stackoverflow.com/questions/3173320/text-progress-bar-in-the-console\n",
    "def printProgressBar (iteration, total, prefix = 'Progress :', suffix = 'Complete', decimals = 1, length = 50, fill = '█'):\n",
    "    \"\"\"\n",
    "    Call in a loop to create terminal progress bar\n",
    "    @params:\n",
    "        iteration   - Required  : current iteration (Int)\n",
    "        total       - Required  : total iterations (Int)\n",
    "        prefix      - Optional  : prefix string (Str)\n",
    "        suffix      - Optional  : suffix string (Str)\n",
    "        decimals    - Optional  : positive number of decimals in percent complete (Int)\n",
    "        length      - Optional  : character length of bar (Int)\n",
    "        fill        - Optional  : bar fill character (Str)\n",
    "    \"\"\"\n",
    "    percent = (\"{0:.\" + str(decimals) + \"f}\").format(100 * (iteration / float(total)))\n",
    "    filledLength = int(length * iteration // total)\n",
    "    bar = fill * filledLength + '-' * (length - filledLength)\n",
    "    print('\\r%s |%s| %s%% %s' % (prefix, bar, percent, suffix), end = '\\r')\n",
    "    # Print New Line on Complete\n",
    "    if iteration == total: \n",
    "        print()"
   ]
  },
  {
   "cell_type": "code",
   "execution_count": null,
   "metadata": {},
   "outputs": [
    {
     "name": "stdout",
     "output_type": "stream",
     "text": [
      "Resizing images :  |██████████████████████████████████████████████████| 100.0% Complete\n",
      "Working out mean :  |██████████████████████████████████████████████████| 100.0% Complete\n",
      "Working out standard deviation :  |██████████████████████████████████████████████████| 100.0% Complete\n",
      "Normalizing images :  |█████████-----------------------------------------| 19.4% Complete\r"
     ]
    }
   ],
   "source": [
    "target_size = 500\n",
    "\n",
    "def resizeImage(img_path):   \n",
    "    img = cv2.imread(\"db/faces/\" + img_path)\n",
    "    old_dimensions = img.shape[:2]\n",
    "\n",
    "    ratio = float(target_size)/max(old_dimensions)\n",
    "    new_dimensions = tuple([int(x*ratio) for x in old_dimensions])\n",
    "\n",
    "    img = cv2.resize(img, (new_dimensions[1], new_dimensions[0]))\n",
    "\n",
    "    delta_w = target_size - new_dimensions[1]\n",
    "    delta_h = target_size - new_dimensions[0]\n",
    "    top, bottom = delta_h//2, delta_h-(delta_h//2)\n",
    "    left, right = delta_w//2, delta_w-(delta_w//2)\n",
    "\n",
    "    color = [0, 0, 0]\n",
    "    new_img = cv2.copyMakeBorder(img, top, bottom, left, right, cv2.BORDER_CONSTANT,\n",
    "        value=color)\n",
    "\n",
    "    # Ensure directory exists or is created !\n",
    "    save_path = \"db/preprocessed/\" + img_path.replace(\"/\", \"_\")\n",
    "    directory = os.path.dirname(save_path)\n",
    "    try:\n",
    "        os.makedirs(directory)\n",
    "    except FileExistsError:\n",
    "        pass # It's okay, nothing to be done\n",
    "\n",
    "    cv2.imwrite(save_path, new_img)\n",
    "    \n",
    "    return save_path\n",
    "\n",
    "def preprocessData():\n",
    "    # Retrieve every image entry in the database\n",
    "    data_indexes = [\"fold_0_data.txt\", \"fold_1_data.txt\", \"fold_2_data.txt\", \"fold_3_data.txt\", \"fold_4_data.txt\"]\n",
    "    entries = []\n",
    "    for i in range(0, len(data_indexes)):\n",
    "        index = open(\"db/\" + data_indexes[i], 'r')\n",
    "        next(index) # Skip header row\n",
    "        entries.extend(index.readlines())\n",
    "    \n",
    "    data_index = [] # Format : list of [`image path in db`, `age`, `gender`]\n",
    "    \n",
    "    # Resize them to fixed size + filling data_index\n",
    "    for i in range(0, len(entries)):\n",
    "        printProgressBar(i+1, len(entries), 'Resizing images : ')\n",
    "        entry = entries[i]\n",
    "        entry = entry.split(\"\\t\")\n",
    "        save_path = resizeImage(entry[0] + \"/\" + \"coarse_tilt_aligned_face.\" + entry[2] + \".\" + entry[1])\n",
    "        data_index.append([save_path, entry[3], entry[4]])\n",
    "    \n",
    "    # Work out mean image\n",
    "    mean_img = np.zeros((target_size, target_size, 3), np.uint32)\n",
    "    for i in range(0, len(data_index)):\n",
    "        printProgressBar(i+1, len(data_index), 'Working out mean : ')\n",
    "        img = cv2.imread(data_index[i][0])\n",
    "        mean_img += img\n",
    "    mean_img = np.true_divide(mean_img, len(data_index))\n",
    "    cv2.imwrite(\"db/preprocessed/mean.jpg\", mean_img)\n",
    "        \n",
    "    # Work out standard deviation image\n",
    "    standard_deviation_img = np.zeros((target_size, target_size, 3), np.uint32)\n",
    "    for i in range(0, len(data_index)):\n",
    "        printProgressBar(i+1, len(data_index), 'Working out standard deviation : ')\n",
    "        img = cv2.imread(data_index[i][0])\n",
    "        standard_deviation_img += np.power(img - mean_img, 2).astype(np.uint32)\n",
    "    standard_deviation_img = np.sqrt(np.true_divide(standard_deviation_img, len(data_index) - 1))\n",
    "    cv2.imwrite(\"db/preprocessed/standard_deviation.jpg\", standard_deviation_img)\n",
    "\n",
    "    # Normalizing images\n",
    "    min = math.inf\n",
    "    max = -math.inf\n",
    "    normalized_images = []\n",
    "    for i in range(0, len(data_index)):\n",
    "        printProgressBar(i+1, len(data_index), 'Normalizing images : ')\n",
    "        img = ((cv2.imread(data_index[i][0]).astype(np.int64) - mean_img) / standard_deviation_img)\n",
    "        amin = np.amin(img)\n",
    "        if amin < min:\n",
    "            min = amin\n",
    "        amax = np.amax(img)\n",
    "        if amax > max:\n",
    "            max = amax\n",
    "        normalized_images.append(img)\n",
    "    \n",
    "    for i in range(0, len(data_index)):\n",
    "        normalized_images[i] -= min # Start @ 0\n",
    "        normalized_images[i] *= 255 / (max - min) # Occupy full scale\n",
    "        cv2.imwrite(data_index[i][0], normalized_images[i])\n",
    "       \n",
    "    print(\"All done !\")\n",
    "        \n",
    "preprocessData()\n"
   ]
  },
  {
   "cell_type": "code",
   "execution_count": null,
   "metadata": {},
   "outputs": [],
   "source": []
  }
 ],
 "metadata": {
  "kernelspec": {
   "display_name": "Python 3",
   "language": "python",
   "name": "python3"
  },
  "language_info": {
   "codemirror_mode": {
    "name": "ipython",
    "version": 3
   },
   "file_extension": ".py",
   "mimetype": "text/x-python",
   "name": "python",
   "nbconvert_exporter": "python",
   "pygments_lexer": "ipython3",
   "version": "3.7.3"
  },
  "varInspector": {
   "cols": {
    "lenName": 16,
    "lenType": 16,
    "lenVar": 40
   },
   "kernels_config": {
    "python": {
     "delete_cmd_postfix": "",
     "delete_cmd_prefix": "del ",
     "library": "var_list.py",
     "varRefreshCmd": "print(var_dic_list())"
    },
    "r": {
     "delete_cmd_postfix": ") ",
     "delete_cmd_prefix": "rm(",
     "library": "var_list.r",
     "varRefreshCmd": "cat(var_dic_list()) "
    }
   },
   "position": {
    "height": "308.85px",
    "left": "682px",
    "right": "652px",
    "top": "147px",
    "width": "519px"
   },
   "types_to_exclude": [
    "module",
    "function",
    "builtin_function_or_method",
    "instance",
    "_Feature"
   ],
   "window_display": false
  }
 },
 "nbformat": 4,
 "nbformat_minor": 2
}
