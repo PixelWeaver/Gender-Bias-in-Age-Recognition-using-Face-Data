{
 "cells": [
  {
   "cell_type": "code",
   "execution_count": 1,
   "metadata": {},
   "outputs": [
    {
     "name": "stdout",
     "output_type": "stream",
     "text": [
      "Requirement already satisfied: opencv-python in /home/pixelweaver/anaconda3/lib/python3.7/site-packages (4.1.0.25)\r\n",
      "Requirement already satisfied: numpy>=1.14.5 in /home/pixelweaver/anaconda3/lib/python3.7/site-packages (from opencv-python) (1.16.2)\r\n"
     ]
    }
   ],
   "source": [
    "!pip install -q tf-nightly-2.0-preview\n",
    "# Load the TensorBoard notebook extension\n",
    "%load_ext tensorboard\n",
    "!pip install opencv-python"
   ]
  },
  {
   "cell_type": "code",
   "execution_count": 2,
   "metadata": {},
   "outputs": [],
   "source": [
    "# Clear any logs from previous runs\n",
    "!rm -rf ./logs/ "
   ]
  },
  {
   "cell_type": "code",
   "execution_count": 27,
   "metadata": {},
   "outputs": [],
   "source": [
    "import datetime\n",
    "import tensorflow as tf\n",
    "\n",
    "# Imports for the HParams plugin\n",
    "from tensorboard.plugins.hparams import api_pb2\n",
    "from tensorboard.plugins.hparams import summary as hparams_summary\n",
    "from google.protobuf import struct_pb2"
   ]
  },
  {
   "cell_type": "code",
   "execution_count": 28,
   "metadata": {},
   "outputs": [],
   "source": [
    "# DATA LOADING ????? CAN'T LOAD THE WHOLE OF IT IN MEMORY FOR FUCK'S SAKE\n",
    "(x_train, y_train),(x_test, y_test) = (0, 0), (0, 0)"
   ]
  },
  {
   "cell_type": "code",
   "execution_count": 3,
   "metadata": {},
   "outputs": [],
   "source": [
    "# Things to test out\n",
    "num_units_list = [16, 32]\n",
    "dropout_rate_list = [0.1, 0.2] \n",
    "optimizer_list = ['adam', 'sgd'] "
   ]
  },
  {
   "cell_type": "code",
   "execution_count": null,
   "metadata": {},
   "outputs": [],
   "source": [
    "def create_experiment_summary(num_units_list, dropout_rate_list, optimizer_list):\n",
    "  num_units_list_val = struct_pb2.ListValue()\n",
    "  num_units_list_val.extend(num_units_list)\n",
    "  dropout_rate_list_val = struct_pb2.ListValue()\n",
    "  dropout_rate_list_val.extend(dropout_rate_list)\n",
    "  optimizer_list_val = struct_pb2.ListValue()\n",
    "  optimizer_list_val.extend(optimizer_list)\n",
    "  return hparams_summary.experiment_pb(\n",
    "      # The hyperparameters being changed\n",
    "      hparam_infos=[\n",
    "          api_pb2.HParamInfo(name='num_units',\n",
    "                             display_name='Number of units',\n",
    "                             type=api_pb2.DATA_TYPE_FLOAT64,\n",
    "                             domain_discrete=num_units_list_val),\n",
    "          api_pb2.HParamInfo(name='dropout_rate',\n",
    "                             display_name='Dropout rate',\n",
    "                             type=api_pb2.DATA_TYPE_FLOAT64,\n",
    "                             domain_discrete=dropout_rate_list_val),\n",
    "          api_pb2.HParamInfo(name='optimizer',\n",
    "                             display_name='Optimizer',\n",
    "                             type=api_pb2.DATA_TYPE_STRING,\n",
    "                             domain_discrete=optimizer_list_val)\n",
    "      ],\n",
    "      # The metrics being tracked\n",
    "      metric_infos=[\n",
    "          api_pb2.MetricInfo(\n",
    "              name=api_pb2.MetricName(\n",
    "                  tag='accuracy'),\n",
    "              display_name='Accuracy'),\n",
    "      ]\n",
    "  )\n",
    "\n",
    "exp_summary = create_experiment_summary(num_units_list, dropout_rate_list, optimizer_list)\n",
    "root_logdir_writer = tf.summary.create_file_writer(\"logs/hparam_tuning\")\n",
    "with root_logdir_writer.as_default():\n",
    "  tf.summary.import_event(tf.compat.v1.Event(summary=exp_summary).SerializeToString())\n"
   ]
  },
  {
   "cell_type": "code",
   "execution_count": null,
   "metadata": {},
   "outputs": [],
   "source": [
    "def train_test_model(hparams):\n",
    "\n",
    "  model = tf.keras.models.Sequential([\n",
    "    tf.keras.layers.Flatten(),\n",
    "    tf.keras.layers.Dense(hparams['num_units'], activation=tf.nn.relu),\n",
    "    tf.keras.layers.Dropout(hparams['dropout_rate']),\n",
    "    tf.keras.layers.Dense(10, activation=tf.nn.softmax)\n",
    "  ])\n",
    "  model.compile(optimizer=hparams['optimizer'],\n",
    "                loss='sparse_categorical_crossentropy',\n",
    "                metrics=['accuracy'])\n",
    "\n",
    "  model.fit(x_train, y_train, epochs=1) # Run with 1 epoch to speed things up for demo purposes\n",
    "  _, accuracy = model.evaluate(x_test, y_test)\n",
    "  return accuracy"
   ]
  },
  {
   "cell_type": "code",
   "execution_count": null,
   "metadata": {},
   "outputs": [],
   "source": [
    "def run(run_dir, hparams):\n",
    "  writer = tf.summary.create_file_writer(run_dir)\n",
    "  summary_start = hparams_summary.session_start_pb(hparams=hparams)\n",
    "\n",
    "  with writer.as_default():\n",
    "    accuracy = train_test_model(hparams)\n",
    "    summary_end = hparams_summary.session_end_pb(api_pb2.STATUS_SUCCESS)\n",
    "      \n",
    "    tf.summary.scalar('accuracy', accuracy, step=1, description=\"The accuracy\")\n",
    "    tf.summary.import_event(tf.compat.v1.Event(summary=summary_start).SerializeToString())\n",
    "    tf.summary.import_event(tf.compat.v1.Event(summary=summary_end).SerializeToString())"
   ]
  },
  {
   "cell_type": "code",
   "execution_count": null,
   "metadata": {},
   "outputs": [],
   "source": [
    "session_num = 0\n",
    "\n",
    "for num_units in num_units_list:\n",
    "  for dropout_rate in dropout_rate_list:\n",
    "    for optimizer in optimizer_list:\n",
    "      hparams = {'num_units': num_units, 'dropout_rate': dropout_rate, 'optimizer': optimizer}\n",
    "      print('--- Running training session %d' % (session_num + 1))\n",
    "      print(hparams)\n",
    "      run_name = \"run-%d\" % session_num\n",
    "      run(\"logs/hparam_tuning/\" + run_name, hparams)\n",
    "      session_num += 1"
   ]
  },
  {
   "cell_type": "code",
   "execution_count": 2,
   "metadata": {},
   "outputs": [
    {
     "name": "stderr",
     "output_type": "stream",
     "text": [
      "UsageError: Line magic function `%tensorboard` not found.\n"
     ]
    }
   ],
   "source": [
    "# Visualize data\n",
    "%tensorboard --logdir logs/hparam_tuning"
   ]
  },
  {
   "cell_type": "code",
   "execution_count": null,
   "metadata": {},
   "outputs": [],
   "source": []
  }
 ],
 "metadata": {
  "kernelspec": {
   "display_name": "Python 3",
   "language": "python",
   "name": "python3"
  },
  "language_info": {
   "codemirror_mode": {
    "name": "ipython",
    "version": 3
   },
   "file_extension": ".py",
   "mimetype": "text/x-python",
   "name": "python",
   "nbconvert_exporter": "python",
   "pygments_lexer": "ipython3",
   "version": "3.7.3"
  },
  "varInspector": {
   "cols": {
    "lenName": 16,
    "lenType": 16,
    "lenVar": 40
   },
   "kernels_config": {
    "python": {
     "delete_cmd_postfix": "",
     "delete_cmd_prefix": "del ",
     "library": "var_list.py",
     "varRefreshCmd": "print(var_dic_list())"
    },
    "r": {
     "delete_cmd_postfix": ") ",
     "delete_cmd_prefix": "rm(",
     "library": "var_list.r",
     "varRefreshCmd": "cat(var_dic_list()) "
    }
   },
   "position": {
    "height": "308.85px",
    "left": "682px",
    "right": "652px",
    "top": "147px",
    "width": "519px"
   },
   "types_to_exclude": [
    "module",
    "function",
    "builtin_function_or_method",
    "instance",
    "_Feature"
   ],
   "window_display": false
  }
 },
 "nbformat": 4,
 "nbformat_minor": 2
}
